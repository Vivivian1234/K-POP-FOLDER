{
 "cells": [
  {
   "attachments": {},
   "cell_type": "markdown",
   "metadata": {},
   "source": [
    "# Vivian Ding Assesment Task 2 Data Science Project Portfolio"
   ]
  },
  {
   "attachments": {},
   "cell_type": "markdown",
   "metadata": {},
   "source": [
    "---"
   ]
  },
  {
   "attachments": {},
   "cell_type": "markdown",
   "metadata": {},
   "source": [
    "---"
   ]
  },
  {
   "attachments": {},
   "cell_type": "markdown",
   "metadata": {},
   "source": [
    "### **Identify the Need**\n",
    "\n",
    "I spent the time I had to find a suitable dataset for my research. I decided to do something related to video games, but no satisfactory results were found. I then chose the topic of 'k-pop' and found a very good dataset that included every week's most popular k-pop song since 2010. It has a lot of inforamton that will we very useful for this assesment.\n",
    "\n",
    "My research topic is how popular a certain group/artist is overall and how many times they have been a week's most popular songs per year."
   ]
  },
  {
   "attachments": {},
   "cell_type": "markdown",
   "metadata": {},
   "source": [
    "---"
   ]
  },
  {
   "attachments": {},
   "cell_type": "markdown",
   "metadata": {},
   "source": [
    "### *Identifying and Defining*\n",
    "\n",
    "* Data: A dataset of the most popular k-pop songs per week (2010-2023)\n",
    "\n",
    "* Goal: To find the most popular group/artist overall, as well as how many times they have been a week's most popular songs per year.\n",
    "\n",
    "* Source: https://www.kaggle.com/datasets/romainfonta2/kpop-song-rankings\n",
    "\n",
    "* Access: Publicly available\n",
    "\n",
    "* Access Method: .cvs file\n"
   ]
  },
  {
   "attachments": {},
   "cell_type": "markdown",
   "metadata": {},
   "source": [
    "---"
   ]
  },
  {
   "attachments": {},
   "cell_type": "markdown",
   "metadata": {},
   "source": [
    "### *Functional requirements*\n",
    "\n",
    "* Data Loading: If there are incorrect formatting or missing files, the system should filter them out and remove them from the chart until they are fixed.\n",
    "\n",
    "* Data Cleaning: If there are incorrect formatting or missing files, the system should filter them out and remove them from the chart until they are fixed. The data should also be able to be sorted for the user if they are looking for a sprecific requirement relating to the years and artists.\n",
    "\n",
    "* Data Analysis: This data set should allow a mode based requirement as it sorts through the data by the popularity of the artist(s).\n",
    "\n",
    "* Data Visualisation: A chart (a bar chart is preferrable) will be used to show the comparison of different artists and their popularity in the last 13 years. The user can input a number to show only the artists and popularity for a certain year for more specific research. The user can type a year between 2010 and 2023, and a bar chart for that year only will appear. Users can also type something else so all data is represented in the graph.\n",
    "\n",
    "* Data Reporting: The system should output a chart showing the most popular artist(s) in a time frame. It can also output the most popular artist(s) under the chart through a smaller dataframe. For example, a user can request the top 5 artists who are most repeated in the chart, and it will be shown under it.\n",
    "\n",
    "    There will be two types of data reporting, a visualised one and a dataframe one. The visualised one will show a bar graph for the corresponding conditions the user puts, with the option top # most popular songs in that group. The dataframe type will show a large dataframe instead of a bar chart for the user's personal use.\n",
    "\n",
    "    This can be beneficial for users who are trying to find the most popular artists in a specific year as well as in situations where it is hard to find the data from the bar chart directly.\n"
   ]
  },
  {
   "attachments": {},
   "cell_type": "markdown",
   "metadata": {},
   "source": [
    "---"
   ]
  },
  {
   "attachments": {},
   "cell_type": "markdown",
   "metadata": {},
   "source": [
    "### *Non-functional requirements*\n",
    "\n",
    "* Usability: The system is practical and consistent. It asks for a few necessary inputs and can easily represent data on a graph according to certain variables that the user inputs. There are 6 options, and the minimum a user can input is 1, 2 or 5. 3 and 4 are for adding extra requirements to fit the user's needs efficiently.\n",
    "\n",
    "    This flexibility to input any year from 2010 to 2023 is user-friendly and straight-forward. This simplified user experience allows for quick and efficient data visualisation, offering clear data that can be analysed and interpreted for informed decision-making.\n",
    "\n",
    "* Reliability: This system will be reliable as it efficiently processes organised data from a dataset and turns it into an easy-to-understand bar chart. This ensures that users can trust the accuracy and consistency of the information presented, giving useful insights for decisions. Additionally, this system is designed to handle large datasets without compromising its performance, further proving its reliability for a wide range of uses. \n"
   ]
  },
  {
   "attachments": {},
   "cell_type": "markdown",
   "metadata": {},
   "source": [
    "---"
   ]
  },
  {
   "attachments": {},
   "cell_type": "markdown",
   "metadata": {},
   "source": [
    "### *Purpose*\n",
    "\n",
    "The purpose of my project is to clearly show and visualise data related to how popular a song or artist(s) is. This project is helpful as there is little information available online regarding the most popular k-pop songs per week, which could say a lot about the song, creator(s) and their popularity. This could encourage new and old k-pop listeners to listen to different music if, for example, a particular artist has been the most popular 3/4 weeks in a month, which could lead them to discover new genres and join new communities through music, greatly benefiting themselves and the integrity of this system.\n",
    "\n",
    "User authentication, password hashing and encryption will be used to protect this data from people who may want to post unwanted, inappropriate or controversial messages. If this system were to go public, users would be limited to only being able to access any year which data is recorded, and can create a copy of this system to alter or add data for their own personal use. If this system manages to get hacked, I will always have a backup version to fix everything back to normal, and I will try to stop another incident through more advanced code and finding weak connections to be fixed. \n"
   ]
  },
  {
   "attachments": {},
   "cell_type": "markdown",
   "metadata": {},
   "source": [
    "---"
   ]
  },
  {
   "attachments": {},
   "cell_type": "markdown",
   "metadata": {},
   "source": [
    "### **Data Dictionary**"
   ]
  },
  {
   "attachments": {},
   "cell_type": "markdown",
   "metadata": {},
   "source": [
    "| Year | Datatype | Format for Display | Description | Example | Validation |\n",
    "|-------|----------|--------------------|-------------|---------|------------|\n",
    "| Year | int64 | YYYY | The year of which the song was released | 2010 | Must be a year from 2010 to 2023 |\n",
    "| Week of Ranking | int64 | NN | Week of the year of the ranking (1 to 53) | 1 | Must be a number with maximum 2 digits | \n",
    "| Song Ranking | int64 | NNN | Ranking of the song (1 to 200) | 1 | Must be a number with maximum 3 digits | \n",
    "| Song Title | object | XX...XX | Title of the song  | 우리 사랑하게 됐어요 | Must have at least one character in English or Korean | \n",
    "| Artist(s) | object | XX...XX | Artists of the song, can be multiple and separated by a comma  | 가인, 조권 | Must have at least one character in English or Korean | \n",
    "| Album | object | XX...XX | AAlbum of the song  | 우리 사랑하게 됐어요 | Must have at least one character in English or Korean |"
   ]
  },
  {
   "attachments": {},
   "cell_type": "markdown",
   "metadata": {},
   "source": [
    "---"
   ]
  },
  {
   "attachments": {},
   "cell_type": "markdown",
   "metadata": {},
   "source": [
    "### *Kpop_Ranking Dataframe*"
   ]
  },
  {
   "cell_type": "code",
   "execution_count": 6,
   "metadata": {},
   "outputs": [
    {
     "data": {
      "text/html": [
       "<div>\n",
       "<style scoped>\n",
       "    .dataframe tbody tr th:only-of-type {\n",
       "        vertical-align: middle;\n",
       "    }\n",
       "\n",
       "    .dataframe tbody tr th {\n",
       "        vertical-align: top;\n",
       "    }\n",
       "\n",
       "    .dataframe thead th {\n",
       "        text-align: right;\n",
       "    }\n",
       "</style>\n",
       "<table border=\"1\" class=\"dataframe\">\n",
       "  <thead>\n",
       "    <tr style=\"text-align: right;\">\n",
       "      <th></th>\n",
       "      <th>Year</th>\n",
       "      <th>Week of Ranking</th>\n",
       "      <th>Song Ranking</th>\n",
       "      <th>Song Title</th>\n",
       "      <th>Artist(s)</th>\n",
       "      <th>Album</th>\n",
       "    </tr>\n",
       "  </thead>\n",
       "  <tbody>\n",
       "    <tr>\n",
       "      <th>0</th>\n",
       "      <td>2010</td>\n",
       "      <td>1</td>\n",
       "      <td>1</td>\n",
       "      <td>우리 사랑하게 됐어요.</td>\n",
       "      <td>가인, 조권</td>\n",
       "      <td>우리 사랑하게 됐어요</td>\n",
       "    </tr>\n",
       "    <tr>\n",
       "      <th>1</th>\n",
       "      <td>2010</td>\n",
       "      <td>1</td>\n",
       "      <td>2</td>\n",
       "      <td>처음처럼 그때처럼 (Feat. 강민경)</td>\n",
       "      <td>이승기</td>\n",
       "      <td>Shadow (Repackage)</td>\n",
       "    </tr>\n",
       "    <tr>\n",
       "      <th>2</th>\n",
       "      <td>2010</td>\n",
       "      <td>1</td>\n",
       "      <td>3</td>\n",
       "      <td>그대라서</td>\n",
       "      <td>거미</td>\n",
       "      <td>크리스마스에 눈이 올까요? OST</td>\n",
       "    </tr>\n",
       "    <tr>\n",
       "      <th>3</th>\n",
       "      <td>2010</td>\n",
       "      <td>1</td>\n",
       "      <td>4</td>\n",
       "      <td>Bo Peep Bo Peep</td>\n",
       "      <td>티아라 (T-ara)</td>\n",
       "      <td>Absolute First Album</td>\n",
       "    </tr>\n",
       "    <tr>\n",
       "      <th>4</th>\n",
       "      <td>2010</td>\n",
       "      <td>1</td>\n",
       "      <td>5</td>\n",
       "      <td>술 한잔 해요</td>\n",
       "      <td>지아 (Zia)</td>\n",
       "      <td>Atelier</td>\n",
       "    </tr>\n",
       "    <tr>\n",
       "      <th>...</th>\n",
       "      <td>...</td>\n",
       "      <td>...</td>\n",
       "      <td>...</td>\n",
       "      <td>...</td>\n",
       "      <td>...</td>\n",
       "      <td>...</td>\n",
       "    </tr>\n",
       "    <tr>\n",
       "      <th>66695</th>\n",
       "      <td>2023</td>\n",
       "      <td>44</td>\n",
       "      <td>196</td>\n",
       "      <td>BETELGEUSE</td>\n",
       "      <td>Yuuri</td>\n",
       "      <td>BETELGEUSE</td>\n",
       "    </tr>\n",
       "    <tr>\n",
       "      <th>66696</th>\n",
       "      <td>2023</td>\n",
       "      <td>44</td>\n",
       "      <td>197</td>\n",
       "      <td>Vancouver</td>\n",
       "      <td>BIG Naughty (서동현)</td>\n",
       "      <td>Lovey Dovey</td>\n",
       "    </tr>\n",
       "    <tr>\n",
       "      <th>66697</th>\n",
       "      <td>2023</td>\n",
       "      <td>44</td>\n",
       "      <td>198</td>\n",
       "      <td>Bye bye my blue</td>\n",
       "      <td>백예린</td>\n",
       "      <td>Bye bye my blue</td>\n",
       "    </tr>\n",
       "    <tr>\n",
       "      <th>66698</th>\n",
       "      <td>2023</td>\n",
       "      <td>44</td>\n",
       "      <td>199</td>\n",
       "      <td>사랑이라 믿었던 것들은 (Feat. 이수현)</td>\n",
       "      <td>BIG Naughty (서동현)</td>\n",
       "      <td>호프리스 로맨틱</td>\n",
       "    </tr>\n",
       "    <tr>\n",
       "      <th>66699</th>\n",
       "      <td>2023</td>\n",
       "      <td>44</td>\n",
       "      <td>200</td>\n",
       "      <td>그때 그 순간 그대로 (그그그)</td>\n",
       "      <td>WSG워너비 (가야G)</td>\n",
       "      <td>WSG워너비 1집</td>\n",
       "    </tr>\n",
       "  </tbody>\n",
       "</table>\n",
       "<p>66700 rows × 6 columns</p>\n",
       "</div>"
      ],
      "text/plain": [
       "       Year  Week of Ranking  Song Ranking                Song Title  \\\n",
       "0      2010                1             1              우리 사랑하게 됐어요.   \n",
       "1      2010                1             2     처음처럼 그때처럼 (Feat. 강민경)   \n",
       "2      2010                1             3                      그대라서   \n",
       "3      2010                1             4           Bo Peep Bo Peep   \n",
       "4      2010                1             5                   술 한잔 해요   \n",
       "...     ...              ...           ...                       ...   \n",
       "66695  2023               44           196                BETELGEUSE   \n",
       "66696  2023               44           197                 Vancouver   \n",
       "66697  2023               44           198           Bye bye my blue   \n",
       "66698  2023               44           199  사랑이라 믿었던 것들은 (Feat. 이수현)   \n",
       "66699  2023               44           200         그때 그 순간 그대로 (그그그)   \n",
       "\n",
       "               Artist(s)                 Album  \n",
       "0                 가인, 조권           우리 사랑하게 됐어요  \n",
       "1                    이승기    Shadow (Repackage)  \n",
       "2                     거미    크리스마스에 눈이 올까요? OST  \n",
       "3            티아라 (T-ara)  Absolute First Album  \n",
       "4               지아 (Zia)               Atelier  \n",
       "...                  ...                   ...  \n",
       "66695              Yuuri            BETELGEUSE  \n",
       "66696  BIG Naughty (서동현)           Lovey Dovey  \n",
       "66697                백예린       Bye bye my blue  \n",
       "66698  BIG Naughty (서동현)              호프리스 로맨틱  \n",
       "66699       WSG워너비 (가야G)             WSG워너비 1집  \n",
       "\n",
       "[66700 rows x 6 columns]"
      ]
     },
     "execution_count": 6,
     "metadata": {},
     "output_type": "execute_result"
    }
   ],
   "source": [
    "import pandas as pd\n",
    "KPopRankings_df = pd.read_csv('kpop_ranking.csv', )\n",
    "\n",
    "KPopRankings_df\n"
   ]
  },
  {
   "attachments": {},
   "cell_type": "markdown",
   "metadata": {},
   "source": [
    "---"
   ]
  },
  {
   "attachments": {},
   "cell_type": "markdown",
   "metadata": {},
   "source": [
    "### **Testing and Evaluating**"
   ]
  },
  {
   "attachments": {
    "image-2.png": {
     "image/png": "[encoded data removed]"
    }
   },
   "cell_type": "markdown",
   "metadata": {},
   "source": [
    "### *Analyse and Conclude*\n",
    "\n",
    "* Data Visualisation: Provide the charts / graphs  generated from your data analysis program.\n",
    "\n",
    "    ![image-2.png](attachment:image-2.png)\n",
    "\n",
    "* Calculations: The dataframe sorts out information based on the conditions the user wants. It accurately represents data with the valid data to show authentic information.\n",
    "\n",
    "* Accuracy: The information was taken from the official k-pop ranking system called Circle Chart, which was created in 2010. The data presented have been tabulated and reviewed by official people, as is it produced by the Korea Music Content Association and sponsored by South Korea's Ministry of Culture, Sports and Tourism, proving its accuracy and authenticity.\n",
    "\n",
    "* Conclusions: The data can show information related to the most popular kpop artists per year by the amount of times their songs have been in the top 200 songs per week, which can reveal music trends through trending genres. Users can see songs that rose to popularity quickly but lasted shortly, or songs that sustained popularity for a long period of time. Artists can use these insights to aim for a certain genre, popularity or pattern for their future releases. Seasonal patterns can also be observed, as Christmas related songs often become more popular in December, conveying the trending patterns of the current situations and mood. Utilising datasets like this can greatly benefit new artists who are merging into music to industry stakeholders receiving informed decisions in production, marketing and distribution."
   ]
  },
  {
   "cell_type": "markdown",
   "metadata": {},
   "source": [
    "<font color=\"red\">-------------------------------------------------------------------------------------------------------------------------------------------------------------------------------</font>"
   ]
  },
  {
   "attachments": {},
   "cell_type": "markdown",
   "metadata": {},
   "source": [
    "### *Peer Evaluation*\n",
    "\n",
    "##### <ins>Person 1: Hannah Kwon<ins>\n",
    "Feedback: \n",
    "\n",
    "In my belief I thought that this program was very nice and gave me clear information based on what I wanted and expected from this system. I loved the colour choices within the graphs and plots that were given. Overall I would give this program a 10/10 for the clean information it provided me.\n",
    "\n",
    "-- Hannah, 1:37pm, Thruday 22/08/2024\n",
    "\n",
    "##### <ins>Person 2: Zoe Chen<ins>\n",
    "\n",
    "Feedback:\n",
    "\n",
    "In my most humble opinion I strongly believe my dear peer's program works wonderfully well and provides valuable information. Additionally, her delightful program gave numerous options for the user. Me veri veri like. \n",
    "\n",
    "-- Zoe Chen, 1:52pm, Thursday 22/08/2024\n",
    "\n",
    "##### <ins>Person 1: Erin Lee<ins>\n",
    "Feedback: \n",
    "\n",
    "In my honest opinion, Vivian has done a very good job and her codes were outstanding. The only takeaway was the bar chart where all the names were crowded. However apart from that, everything was perfect and I admire Vivian for all the effort she put in under a short time as she had less time compared to peers. Her codes all functioned with diverse options to choose from ranging in years to even the popularity of artist. I believe that Vivian was very efficient in every lesson seeing the outcome of her code. Good job! 5 out of 5 definitely.\n",
    "\n",
    "\n",
    "-- Erin Lee, 2:02pm, Thursday 22/08/2024"
   ]
  },
  {
   "cell_type": "markdown",
   "metadata": {},
   "source": [
    "<font color=\"red\">-------------------------------------------------------------------------------------------------------------------------------------------------------------------------------</font>"
   ]
  },
  {
   "attachments": {},
   "cell_type": "markdown",
   "metadata": {},
   "source": [
    "### *Evaluation of Final Product in Relation to Functional and Non-Functional Requirements*\n",
    "\n",
    "My data analysis program worked well to represent data about the most popular k-pop songs. The user interface was straightforward and worked well to complete the task to the user's needs. \n",
    "\n",
    "#### *Functional Requirement Evaluation*\n",
    "\n",
    "* Data Loading: I unfortunately was not able to code my system to remove incorrectly formatted or missing files, so I did not complete this part of the requirements.\n",
    "\n",
    "* Data Cleaning: I unfortunately was not able to code my system to remove incorrectly formatted or missing files, so I did not complete this part of the requirements. However, my code was able to sort through the dataset to output the result the user is looking for.\n",
    "\n",
    "* Data Analysis: My system can correctly sort through data by the year and popularity of the artists. This allows the user to add conditions for the system to follow for a more specific need, efficiently and reliability.\n",
    "\n",
    "* Data Visualisation: My system can accurately represent data through a dataframe or a Matplotlib bar chart. Its x and y axes are labelled as the Artists and Counts respectively. It can show data clearly through the graph and can show information well. However, I have noticed that when a user chooses to present all the data in a bar chart, the words overlap because of the huge number of rows for my data, making it near impossible for a bar chart to display every single count for an artist, as there are over 65,000 rows of data. In the future, I will change my code to improve it either by reducing the amount of data I have, or by creating a maximum number of artists shown in the graph.\n",
    "\n",
    "* Data Reporting: My system successfully outputs a chart showing the most popular artists in a time frame. It can also output the most popular artists under the chart through a smaller dataframe. It can output the top # of the most popular artists in regards to the user's needs.\n",
    "\n",
    "    The visualised way of representing the data, a bar chart, correctly shows the most popular artists for a time frame. It shows information clearly, allowing easy observations to be made quickly, impacting decision making and giving insight for choices.\n",
    "\n",
    "    The large dataframe version is useful to find the exact number of counts per artist, whether it is because it is hard to tell on the bar chart, the numbers are too close to be able to distinguish in the bar chart, or for other personal reasons.\n",
    "\n",
    "    I believe that this system efficiently represents data well for the user's needs, as it can represent the data in different forms to meet specific conditions.\n",
    "\n",
    "My system follows the functional requirements quite well. Though I was unable to complete the data loading and cleaning parts of my project, I successfully coded it to effectively sort data by year and artist popularity, allowing users to apply specific conditions for analysis, The data can be accurately visualised using a dataframe or a Matplotlib barchart, allowing the user to find information quickly. The problem where the bar chart can have an overloading x-axis is something I will fix in the future, as I plan to improve it by limiting the number of artists shown. This system can successfully output charts and data on the most popular artists for a time frame, efficiently meeting user's requirements through clear and flexible representations.\n",
    "\n",
    "#### *Non-functional Requirement Evaluation*\n",
    "\n",
    "* Usability: My system was practical and straight-forward. It required few necessary inputs and correctly outputted something that fits with the user's requirements. This simplified experience allows for quick data visualisation for informed decision-making.\n",
    "\n",
    "* Reliability: This system is reliable because of the efficiently sorted data and its speed in turning it into a chart. This ensures that users can trust the accuracy and consistency of the information presented, giving insight for decisions. Additionally, this system handled an extremely large data set, proving its reliability for a wide range of uses.\n",
    "\n",
    "\n"
   ]
  },
  {
   "cell_type": "markdown",
   "metadata": {},
   "source": [
    "<font color=\"red\">-------------------------------------------------------------------------------------------------------------------------------------------------------------------------------</font>"
   ]
  },
  {
   "cell_type": "markdown",
   "metadata": {},
   "source": [
    "### *Evaluation of your Project in Relation to Testing and Project Management*\n",
    "\n",
    "\n",
    "Throughout this assessment task, I approached the project with a much more organised mindset compared to ,y previous assesment task. I utilised any time I had to work on this assesment task, as I worked on it before school, recces, lunch, and after school. \n",
    "\n",
    "In terms of coding, I believe I performed efficiently. My code starting within a hour of starting, which greatly reduced the time I had to spend on it and greatly benefited my time management. I focused on testing during my computing technology classes and breaks, as I could easily fix errors and update it to GtHub.\n",
    " \n",
    "\n",
    "\n",
    "Overall, I believe I invested a considerable amount of effort into this task. I dedicated all my free time to working on the project to ensure that everything was correct, accurate, and up to the standard I aimed to achieve. I learnt a lot from this task that was not related to computing, such as time management, prioritisation and concentration.\n"
   ]
  }
 ],
 "metadata": {
  "kernelspec": {
   "display_name": "Python 3",
   "language": "python",
   "name": "python3"
  },
  "language_info": {
   "codemirror_mode": {
    "name": "ipython",
    "version": 3
   },
   "file_extension": ".py",
   "mimetype": "text/x-python",
   "name": "python",
   "nbconvert_exporter": "python",
   "pygments_lexer": "ipython3",
   "version": "3.9.2"
  },
  "orig_nbformat": 4
 },
 "nbformat": 4,
 "nbformat_minor": 2
}
