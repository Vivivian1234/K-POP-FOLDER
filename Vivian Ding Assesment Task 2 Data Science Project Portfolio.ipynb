{
 "cells": [
  {
   "attachments": {},
   "cell_type": "markdown",
   "metadata": {},
   "source": [
    "# Vivian Ding Assesment Task 2 Data Science Project Portfolio"
   ]
  },
  {
   "attachments": {},
   "cell_type": "markdown",
   "metadata": {},
   "source": [
    "---"
   ]
  },
  {
   "attachments": {},
   "cell_type": "markdown",
   "metadata": {},
   "source": [
    "---"
   ]
  },
  {
   "attachments": {},
   "cell_type": "markdown",
   "metadata": {},
   "source": [
    "### **Identify the Need**\n",
    "\n",
    "I spent the time I had to find a suitable dataset for my research. I decided to do something related to video games, but no satisfactory results were found. I then chose the topic of 'k-pop' and found a very good dataset that included every week's most popular k-pop song since 2010. It has a lot of inforamton that will we very useful for this assesment.\n",
    "\n",
    "My research topic is how popular a certain group/artist is overall and how many times they have been a week's most popular songs per year."
   ]
  },
  {
   "attachments": {},
   "cell_type": "markdown",
   "metadata": {},
   "source": [
    "---"
   ]
  },
  {
   "attachments": {},
   "cell_type": "markdown",
   "metadata": {},
   "source": [
    "### *Identifying and Defining*\n",
    "\n",
    "* Data: A dataset of the most popular k-pop songs per week (2010-2023)\n",
    "\n",
    "* Goal: To find the most popular group/artist overall, as well as how many times they have been a week's most popular songs per year.\n",
    "\n",
    "* Source: https://www.kaggle.com/datasets/romainfonta2/kpop-song-rankings\n",
    "\n",
    "* Access: Publicly available\n",
    "\n",
    "* Access Method: .cvs file\n"
   ]
  },
  {
   "attachments": {},
   "cell_type": "markdown",
   "metadata": {},
   "source": [
    "---"
   ]
  },
  {
   "attachments": {},
   "cell_type": "markdown",
   "metadata": {},
   "source": [
    "### *Functional requirements*\n",
    "\n",
    "* Data Loading: If there are is incorrect foramtting or missing files, the system should filter them out and remove them from the bar chart until they are fixed.\n",
    "\n",
    "* Data Cleaning: If there are is incorrect foramtting or missing files, the system should filter them out and remove them from the bar chart until they are fixed. For example, if a user adds only one line of data for the year 2026, that line of data will not be included in the graph. A user must add 52 lines worth of data for a year for it to be registered in the dataset.\n",
    "\n",
    "* Data Analysis: This data set should allow a mode based requirement as it sorts through the data by the popularity of the artist(s).\n",
    "\n",
    "* Data Visualisation: A Matplotlib bar chart will be used to show the comparison of different artists and their popularity in the last 13 years. The user can input a number to show only the artists and popularity for a certain year for more specific reserach. The user can type a year between 2010 and 2023, and a bar chart for that year only will appear. Users can type 'all' so all data is represented in the graph.\n",
    "\n",
    "* Data Reporting: The system should output a bar chart showing the most popular artist(s) in  a time frame. It should aslo output the most popular artist(s) under tha bar chart. For example, an output could be a bar chart with the words:\n",
    "\n",
    "    * \"<font color=\"red\">Most</font> popular in _[year]_: Stray Kids\"\n",
    "\n",
    "\n",
    "    below it. Users can also choose how many lines are written under the bar chart. If the user chose 5 lines, it would add the bar chart and could write (for example):\n",
    "\n",
    "    * <font color=\"red\">Most</font> popular in _[year]_: **Stray Kids**\n",
    "    * <font color=\"red\">2nd</font> most popular in _[year]_: **Will Wood**\n",
    "    * <font color=\"red\">3rd</font> most popular in _[year]_: **We. B (Music)**\n",
    "    * <font color=\"red\">4th</font> most popular in _[year]_: **Monarch (AmaLee)**\n",
    "    * <font color=\"red\">5th</font> most popular in _[year]_: **Sam Haft**\n",
    "\n",
    "    This can be beneficial for users who are trying to find the most popular artists in a certain time frame as well as in situtaions where it is hard to find the data from the bar chart directly. The red text and the bolded names can help users quickly locate something quickly for effiency.\n"
   ]
  },
  {
   "attachments": {},
   "cell_type": "markdown",
   "metadata": {},
   "source": [
    "---"
   ]
  },
  {
   "attachments": {},
   "cell_type": "markdown",
   "metadata": {},
   "source": [
    "### *Non-functional requirements*\n",
    "\n",
    "* Usability: The system is practical and consistent. It asked few necessary inputs and can easily represent data on a graph according to certain variables that the user inputs. The minimum a user can input is: \n",
    "    * [a year from 2010-2023]/ all\n",
    "    * [any number]\n",
    "\n",
    "\n",
    "    for it to show a bar chart for the data needed.\n",
    "\n",
    "    This flexibility to input any year from 2010 to 2023 is user-freindly and straight-forward. This simplified user experince allows for quick and efficient data visulisation, offereing clear data that can be analysed and interpreted for informed decision-making.\n",
    "\n",
    "* Reliability: This system will be reliable as it efficiently processes organised data from a dataset and turns it into an easy-to-understand bar chart. This ensures that users can trust the accuracy and consistency of the information presented, giving useful insights fort decisions. Additionally, this system is designed to handle large datasets without compromising its performance, futher proving its reliability for a wide range of uses. \n"
   ]
  },
  {
   "attachments": {},
   "cell_type": "markdown",
   "metadata": {},
   "source": [
    "---"
   ]
  },
  {
   "attachments": {},
   "cell_type": "markdown",
   "metadata": {},
   "source": [
    "### *Purpose*\n",
    "\n",
    "The purpose my my project is to clearly show and visulise data related to how popular a song or artist(s) is. This project is helpful as there is little information available online regarding the most popular k-pop songs per week, which could say a lot about the song, creator(s) and their popularity. This could encourage new and old k-pop listeners to listen to different music if, for example, a particular artist has been the most popular 3/4 weeks in a month, which could lead them to discover new genres and join new communities through music, greatly beneifiting themselves and the intergrity of this system.\n",
    "\n",
    "If this system goes public, the artists of their songs shown here may have the right to remove their song or change their band name after giving a reason, and once their reason is approved, their choice will be implemented. For instance, there are a large number of k-pop groups where a member has left after their debut. They could leave for personal reasons or because they committed a crime and was forced to leave. Groups may chnage their name to include/exclude certain names in this system. \n",
    "\n",
    "An example where an artist (A) could ask to do this could be if there is a collab song between them and anothor who has been convicted for a crime (B). Though A may have explained the situation and disagree with the B's actions, many few artists are willinging to remove their song becuase of the hard work they put in and the revenue they earned. Artists could ask to add \"**Warning: ft [ArtistName]**\" to the end of of their songs to warn listeners that they do not supported B's actions and are no longer related to them. This can clear misinformation and spread awareness for the community who may misinterpret ideas, especially if this system becomes popular. \n",
    "\n",
    "It is my responsibility to ensure that everyone can safely display information without causing any unfavourable emotions to others, whether it be discomfort or annoyance. This system should be secure so that others can not negatively affect others through it. User authentication, password hashing and encryption will be used to protect this data from people who may want to post unwanted, inappropriate or controversial messagers. If this system was to go public, users can use it as a guest mode or a login mode. Guest mode will limit the user to only be able to see all the information across the years, with no option to input variables for the system to follow, such as a specific year to analyse. Users with any account can access any year which data is recorded, and can create a copy of this system to alter or add data for their own personal use. If this system manages to get hacked, I will always have a back up version to fix everything back to normal, and I will try to stop another incident through more advanced code and finding weak connections to be fixed.\n"
   ]
  },
  {
   "attachments": {},
   "cell_type": "markdown",
   "metadata": {},
   "source": [
    "---"
   ]
  },
  {
   "attachments": {},
   "cell_type": "markdown",
   "metadata": {},
   "source": [
    "### **Data Dictionary**"
   ]
  },
  {
   "cell_type": "code",
   "execution_count": 18,
   "metadata": {},
   "outputs": [
    {
     "data": {
      "text/html": [
       "<div>\n",
       "<style scoped>\n",
       "    .dataframe tbody tr th:only-of-type {\n",
       "        vertical-align: middle;\n",
       "    }\n",
       "\n",
       "    .dataframe tbody tr th {\n",
       "        vertical-align: top;\n",
       "    }\n",
       "\n",
       "    .dataframe thead th {\n",
       "        text-align: right;\n",
       "    }\n",
       "</style>\n",
       "<table border=\"1\" class=\"dataframe\">\n",
       "  <thead>\n",
       "    <tr style=\"text-align: right;\">\n",
       "      <th></th>\n",
       "      <th>Year</th>\n",
       "      <th>Week of the ranking</th>\n",
       "      <th>Song Title</th>\n",
       "      <th>Artist(s)</th>\n",
       "      <th>Album</th>\n",
       "    </tr>\n",
       "  </thead>\n",
       "  <tbody>\n",
       "    <tr>\n",
       "      <th>2010</th>\n",
       "      <td>1</td>\n",
       "      <td>1</td>\n",
       "      <td>우리 사랑하게 됐어요.</td>\n",
       "      <td>가인, 조권</td>\n",
       "      <td>우리 사랑하게 됐어요</td>\n",
       "    </tr>\n",
       "    <tr>\n",
       "      <th>2010</th>\n",
       "      <td>1</td>\n",
       "      <td>2</td>\n",
       "      <td>처음처럼 그때처럼 (Feat. 강민경)</td>\n",
       "      <td>이승기</td>\n",
       "      <td>Shadow (Repackage)</td>\n",
       "    </tr>\n",
       "    <tr>\n",
       "      <th>2010</th>\n",
       "      <td>1</td>\n",
       "      <td>3</td>\n",
       "      <td>그대라서</td>\n",
       "      <td>거미</td>\n",
       "      <td>크리스마스에 눈이 올까요? OST</td>\n",
       "    </tr>\n",
       "    <tr>\n",
       "      <th>2010</th>\n",
       "      <td>1</td>\n",
       "      <td>4</td>\n",
       "      <td>Bo Peep Bo Peep</td>\n",
       "      <td>티아라 (T-ara)</td>\n",
       "      <td>Absolute First Album</td>\n",
       "    </tr>\n",
       "    <tr>\n",
       "      <th>2010</th>\n",
       "      <td>1</td>\n",
       "      <td>5</td>\n",
       "      <td>술 한잔 해요</td>\n",
       "      <td>지아 (Zia)</td>\n",
       "      <td>Atelier</td>\n",
       "    </tr>\n",
       "    <tr>\n",
       "      <th>...</th>\n",
       "      <td>...</td>\n",
       "      <td>...</td>\n",
       "      <td>...</td>\n",
       "      <td>...</td>\n",
       "      <td>...</td>\n",
       "    </tr>\n",
       "    <tr>\n",
       "      <th>2023</th>\n",
       "      <td>44</td>\n",
       "      <td>196</td>\n",
       "      <td>BETELGEUSE</td>\n",
       "      <td>Yuuri</td>\n",
       "      <td>BETELGEUSE</td>\n",
       "    </tr>\n",
       "    <tr>\n",
       "      <th>2023</th>\n",
       "      <td>44</td>\n",
       "      <td>197</td>\n",
       "      <td>Vancouver</td>\n",
       "      <td>BIG Naughty (서동현)</td>\n",
       "      <td>Lovey Dovey</td>\n",
       "    </tr>\n",
       "    <tr>\n",
       "      <th>2023</th>\n",
       "      <td>44</td>\n",
       "      <td>198</td>\n",
       "      <td>Bye bye my blue</td>\n",
       "      <td>백예린</td>\n",
       "      <td>Bye bye my blue</td>\n",
       "    </tr>\n",
       "    <tr>\n",
       "      <th>2023</th>\n",
       "      <td>44</td>\n",
       "      <td>199</td>\n",
       "      <td>사랑이라 믿었던 것들은 (Feat. 이수현)</td>\n",
       "      <td>BIG Naughty (서동현)</td>\n",
       "      <td>호프리스 로맨틱</td>\n",
       "    </tr>\n",
       "    <tr>\n",
       "      <th>2023</th>\n",
       "      <td>44</td>\n",
       "      <td>200</td>\n",
       "      <td>그때 그 순간 그대로 (그그그)</td>\n",
       "      <td>WSG워너비 (가야G)</td>\n",
       "      <td>WSG워너비 1집</td>\n",
       "    </tr>\n",
       "  </tbody>\n",
       "</table>\n",
       "<p>66700 rows × 5 columns</p>\n",
       "</div>"
      ],
      "text/plain": [
       "      Year  Week of the ranking                Song Title          Artist(s)  \\\n",
       "2010     1                    1              우리 사랑하게 됐어요.             가인, 조권   \n",
       "2010     1                    2     처음처럼 그때처럼 (Feat. 강민경)                이승기   \n",
       "2010     1                    3                      그대라서                 거미   \n",
       "2010     1                    4           Bo Peep Bo Peep        티아라 (T-ara)   \n",
       "2010     1                    5                   술 한잔 해요           지아 (Zia)   \n",
       "...    ...                  ...                       ...                ...   \n",
       "2023    44                  196                BETELGEUSE              Yuuri   \n",
       "2023    44                  197                 Vancouver  BIG Naughty (서동현)   \n",
       "2023    44                  198           Bye bye my blue                백예린   \n",
       "2023    44                  199  사랑이라 믿었던 것들은 (Feat. 이수현)  BIG Naughty (서동현)   \n",
       "2023    44                  200         그때 그 순간 그대로 (그그그)       WSG워너비 (가야G)   \n",
       "\n",
       "                     Album  \n",
       "2010           우리 사랑하게 됐어요  \n",
       "2010    Shadow (Repackage)  \n",
       "2010    크리스마스에 눈이 올까요? OST  \n",
       "2010  Absolute First Album  \n",
       "2010               Atelier  \n",
       "...                    ...  \n",
       "2023            BETELGEUSE  \n",
       "2023           Lovey Dovey  \n",
       "2023       Bye bye my blue  \n",
       "2023              호프리스 로맨틱  \n",
       "2023             WSG워너비 1집  \n",
       "\n",
       "[66700 rows x 5 columns]"
      ]
     },
     "execution_count": 18,
     "metadata": {},
     "output_type": "execute_result"
    }
   ],
   "source": [
    "import pandas as pd\n",
    "KPopRankings_df = pd.read_csv(\n",
    "                              'kpop_rankings.csv',\n",
    "                              header =None,\n",
    "                              names=['Year', 'Week of the ranking', 'Song Title', \"Artist(s)\", \"Album\"]\n",
    "                              )\n",
    "KPopRankings_df"
   ]
  }
 ],
 "metadata": {
  "kernelspec": {
   "display_name": "Python 3",
   "language": "python",
   "name": "python3"
  },
  "language_info": {
   "codemirror_mode": {
    "name": "ipython",
    "version": 3
   },
   "file_extension": ".py",
   "mimetype": "text/x-python",
   "name": "python",
   "nbconvert_exporter": "python",
   "pygments_lexer": "ipython3",
   "version": "3.9.2"
  },
  "orig_nbformat": 4
 },
 "nbformat": 4,
 "nbformat_minor": 2
}
