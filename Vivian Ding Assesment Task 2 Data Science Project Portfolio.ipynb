{
 "cells": [
  {
   "attachments": {},
   "cell_type": "markdown",
   "metadata": {},
   "source": [
    "# Vivian Ding Assesment Task 2 Data Science Project Portfolio"
   ]
  },
  {
   "attachments": {},
   "cell_type": "markdown",
   "metadata": {},
   "source": [
    "---"
   ]
  },
  {
   "attachments": {},
   "cell_type": "markdown",
   "metadata": {},
   "source": [
    "---"
   ]
  },
  {
   "attachments": {},
   "cell_type": "markdown",
   "metadata": {},
   "source": [
    "### **Identify the Need**\n",
    "\n",
    "I spent the time I had to find a suitable dataset for my research. I decided to do something related to video games, but no satisfactory results were found. I then chose the topic of 'k-pop' and found a very good dataset that included every week's most popular k-pop song since 2010. It has a lot of inforamton that will we very useful for this assesment.\n",
    "\n",
    "My research topic is how popular a certain group/artist is overall and how many times they have been a week's most popular songs per year."
   ]
  },
  {
   "attachments": {},
   "cell_type": "markdown",
   "metadata": {},
   "source": [
    "---"
   ]
  },
  {
   "attachments": {},
   "cell_type": "markdown",
   "metadata": {},
   "source": [
    "### *Identifying and Defining*\n",
    "\n",
    "* Data: A dataset of the most popular k-pop songs per week (2010-2023)\n",
    "\n",
    "* Goal: To find the most popular group/artist overall, as well as how many times they have been a week's most popular songs per year.\n",
    "\n",
    "* Source: https://www.kaggle.com/datasets/romainfonta2/kpop-song-rankings\n",
    "\n",
    "* Access: Publicly available\n",
    "\n",
    "* Access Method: .cvs file\n"
   ]
  },
  {
   "attachments": {},
   "cell_type": "markdown",
   "metadata": {},
   "source": [
    "---"
   ]
  },
  {
   "attachments": {},
   "cell_type": "markdown",
   "metadata": {},
   "source": [
    "### *Functional requirements*\n",
    "\n",
    "* Data Loading: If there are is incorrect foramtting or missing files, the system should filter them out and remove them from the bar chart until they are fixed.\n",
    "\n",
    "* Data Cleaning: If there are is incorrect foramtting or missing files, the system should filter them out and remove them from the bar chart until they are fixed.\n",
    "\n",
    "* Data Analysis: This data set should allow a mode based requirement as it sorts through the data by the popularity of the artist(s).\n",
    "\n",
    "* Data Visualisation: A Matplotlib bar chart will be used to show the comparison of different artists and their popularity in the last 13 years. The user can input a number to show only the artists and popularity for a certain year for more specific reserach. The user can type a year between 2010 and 2023, and a bar chart for that year only will appear. Users can type 'all' so all data is represented in the graph.\n",
    "\n",
    "* Data Reporting: The system should output a bar chart showing the most popular artist(s) in  a time frame. It should also output the most popular artist(s) under tha bar chart through a smaller dataframe. For example, a user can request the top 5 artists who are most repeated in the bar chart, and it will be shown under it.\n",
    "\n",
    "    There will be two types of data reporting, a visualised one and a dataframe one. The visualised one will show a bar graph for the corresponding conditions the user puts, with the option top # most popular songs in that group. The dataframe type will show a large dataframe instead of a bar chart for the user's personal use.\n",
    "\n",
    "    This can be beneficial for users who are trying to find the most popular artists in a certain time frame as well as in situtaions where it is hard to find the data from the bar chart directly. The red text and the bolded names can help users quickly locate something quickly for effiency.\n"
   ]
  },
  {
   "attachments": {},
   "cell_type": "markdown",
   "metadata": {},
   "source": [
    "---"
   ]
  },
  {
   "attachments": {},
   "cell_type": "markdown",
   "metadata": {},
   "source": [
    "### *Non-functional requirements*\n",
    "\n",
    "* Usability: The system is practical and consistent. It asked few necessary inputs and can easily represent data on a graph according to certain variables that the user inputs. The minimum a user can input is: \n",
    "    * [a year from 2010-2023]/ all\n",
    "    * [any number]\n",
    "\n",
    "\n",
    "    for it to show a bar chart for the data needed.\n",
    "\n",
    "    This flexibility to input any year from 2010 to 2023 is user-freindly and straight-forward. This simplified user experince allows for quick and efficient data visulisation, offereing clear data that can be analysed and interpreted for informed decision-making.\n",
    "\n",
    "* Reliability: This system will be reliable as it efficiently processes organised data from a dataset and turns it into an easy-to-understand bar chart. This ensures that users can trust the accuracy and consistency of the information presented, giving useful insights fort decisions. Additionally, this system is designed to handle large datasets without compromising its performance, futher proving its reliability for a wide range of uses. \n"
   ]
  },
  {
   "attachments": {},
   "cell_type": "markdown",
   "metadata": {},
   "source": [
    "---"
   ]
  },
  {
   "attachments": {},
   "cell_type": "markdown",
   "metadata": {},
   "source": [
    "### *Purpose*\n",
    "\n",
    "The purpose my my project is to clearly show and visulise data related to how popular a song or artist(s) is. This project is helpful as there is little information available online regarding the most popular k-pop songs per week, which could say a lot about the song, creator(s) and their popularity. This could encourage new and old k-pop listeners to listen to different music if, for example, a particular artist has been the most popular 3/4 weeks in a month, which could lead them to discover new genres and join new communities through music, greatly beneifiting themselves and the intergrity of this system.\n",
    "\n",
    "User authentication, password hashing and encryption will be used to protect this data from people who may want to post unwanted, inappropriate or controversial messagers. If this system was to go public, users can use it as a guest mode or a login mode. Guest mode will limit the user to only be able to see all the information across the years, with no option to input variables for the system to follow, such as a specific year to analyse. Users with any account can access any year which data is recorded, and can create a copy of this system to alter or add data for their own personal use. If this system manages to get hacked, I will always have a back up version to fix everything back to normal, and I will try to stop another incident through more advanced code and finding weak connections to be fixed.\n"
   ]
  },
  {
   "attachments": {},
   "cell_type": "markdown",
   "metadata": {},
   "source": [
    "---"
   ]
  },
  {
   "attachments": {},
   "cell_type": "markdown",
   "metadata": {},
   "source": [
    "### **Data Dictionary**"
   ]
  },
  {
   "attachments": {},
   "cell_type": "markdown",
   "metadata": {},
   "source": [
    "| Year | Datatype | Format for Display | Description | Example | Validation |\n",
    "|-------|----------|--------------------|-------------|---------|------------|\n",
    "| Year | int64 | YYYY | The year of which the song was released | 2010 | Must be a year from 2010 to 2023 |\n",
    "| Week of Ranking | int64 | NN | Week of the year of the ranking (1 to 53) | 1 | Must be a number with maximum 2 digits | \n",
    "| Song Ranking | int64 | NNN | Ranking of the song (1 to 200) | 1 | Must be a number with maximum 3 digits | \n",
    "| Song Title | object | XX...XX | Title of the song  | 우리 사랑하게 됐어요 | Must have at least one character in English or Korean | \n",
    "| Artist(s) | object | XX...XX | Artists of the song, can be multiple and separated by a comma  | 가인, 조권 | Must have at least one character in English or Korean | \n",
    "| Album | object | XX...XX | AAlbum of the song  | 우리 사랑하게 됐어요 | Must have at least one character in English or Korean |"
   ]
  },
  {
   "attachments": {},
   "cell_type": "markdown",
   "metadata": {},
   "source": [
    "---"
   ]
  },
  {
   "cell_type": "code",
   "execution_count": 6,
   "metadata": {},
   "outputs": [
    {
     "data": {
      "text/html": [
       "<div>\n",
       "<style scoped>\n",
       "    .dataframe tbody tr th:only-of-type {\n",
       "        vertical-align: middle;\n",
       "    }\n",
       "\n",
       "    .dataframe tbody tr th {\n",
       "        vertical-align: top;\n",
       "    }\n",
       "\n",
       "    .dataframe thead th {\n",
       "        text-align: right;\n",
       "    }\n",
       "</style>\n",
       "<table border=\"1\" class=\"dataframe\">\n",
       "  <thead>\n",
       "    <tr style=\"text-align: right;\">\n",
       "      <th></th>\n",
       "      <th>Year</th>\n",
       "      <th>Week of Ranking</th>\n",
       "      <th>Song Ranking</th>\n",
       "      <th>Song Title</th>\n",
       "      <th>Artist(s)</th>\n",
       "      <th>Album</th>\n",
       "    </tr>\n",
       "  </thead>\n",
       "  <tbody>\n",
       "    <tr>\n",
       "      <th>0</th>\n",
       "      <td>2010</td>\n",
       "      <td>1</td>\n",
       "      <td>1</td>\n",
       "      <td>우리 사랑하게 됐어요.</td>\n",
       "      <td>가인, 조권</td>\n",
       "      <td>우리 사랑하게 됐어요</td>\n",
       "    </tr>\n",
       "    <tr>\n",
       "      <th>1</th>\n",
       "      <td>2010</td>\n",
       "      <td>1</td>\n",
       "      <td>2</td>\n",
       "      <td>처음처럼 그때처럼 (Feat. 강민경)</td>\n",
       "      <td>이승기</td>\n",
       "      <td>Shadow (Repackage)</td>\n",
       "    </tr>\n",
       "    <tr>\n",
       "      <th>2</th>\n",
       "      <td>2010</td>\n",
       "      <td>1</td>\n",
       "      <td>3</td>\n",
       "      <td>그대라서</td>\n",
       "      <td>거미</td>\n",
       "      <td>크리스마스에 눈이 올까요? OST</td>\n",
       "    </tr>\n",
       "    <tr>\n",
       "      <th>3</th>\n",
       "      <td>2010</td>\n",
       "      <td>1</td>\n",
       "      <td>4</td>\n",
       "      <td>Bo Peep Bo Peep</td>\n",
       "      <td>티아라 (T-ara)</td>\n",
       "      <td>Absolute First Album</td>\n",
       "    </tr>\n",
       "    <tr>\n",
       "      <th>4</th>\n",
       "      <td>2010</td>\n",
       "      <td>1</td>\n",
       "      <td>5</td>\n",
       "      <td>술 한잔 해요</td>\n",
       "      <td>지아 (Zia)</td>\n",
       "      <td>Atelier</td>\n",
       "    </tr>\n",
       "    <tr>\n",
       "      <th>...</th>\n",
       "      <td>...</td>\n",
       "      <td>...</td>\n",
       "      <td>...</td>\n",
       "      <td>...</td>\n",
       "      <td>...</td>\n",
       "      <td>...</td>\n",
       "    </tr>\n",
       "    <tr>\n",
       "      <th>66695</th>\n",
       "      <td>2023</td>\n",
       "      <td>44</td>\n",
       "      <td>196</td>\n",
       "      <td>BETELGEUSE</td>\n",
       "      <td>Yuuri</td>\n",
       "      <td>BETELGEUSE</td>\n",
       "    </tr>\n",
       "    <tr>\n",
       "      <th>66696</th>\n",
       "      <td>2023</td>\n",
       "      <td>44</td>\n",
       "      <td>197</td>\n",
       "      <td>Vancouver</td>\n",
       "      <td>BIG Naughty (서동현)</td>\n",
       "      <td>Lovey Dovey</td>\n",
       "    </tr>\n",
       "    <tr>\n",
       "      <th>66697</th>\n",
       "      <td>2023</td>\n",
       "      <td>44</td>\n",
       "      <td>198</td>\n",
       "      <td>Bye bye my blue</td>\n",
       "      <td>백예린</td>\n",
       "      <td>Bye bye my blue</td>\n",
       "    </tr>\n",
       "    <tr>\n",
       "      <th>66698</th>\n",
       "      <td>2023</td>\n",
       "      <td>44</td>\n",
       "      <td>199</td>\n",
       "      <td>사랑이라 믿었던 것들은 (Feat. 이수현)</td>\n",
       "      <td>BIG Naughty (서동현)</td>\n",
       "      <td>호프리스 로맨틱</td>\n",
       "    </tr>\n",
       "    <tr>\n",
       "      <th>66699</th>\n",
       "      <td>2023</td>\n",
       "      <td>44</td>\n",
       "      <td>200</td>\n",
       "      <td>그때 그 순간 그대로 (그그그)</td>\n",
       "      <td>WSG워너비 (가야G)</td>\n",
       "      <td>WSG워너비 1집</td>\n",
       "    </tr>\n",
       "  </tbody>\n",
       "</table>\n",
       "<p>66700 rows × 6 columns</p>\n",
       "</div>"
      ],
      "text/plain": [
       "       Year  Week of Ranking  Song Ranking                Song Title  \\\n",
       "0      2010                1             1              우리 사랑하게 됐어요.   \n",
       "1      2010                1             2     처음처럼 그때처럼 (Feat. 강민경)   \n",
       "2      2010                1             3                      그대라서   \n",
       "3      2010                1             4           Bo Peep Bo Peep   \n",
       "4      2010                1             5                   술 한잔 해요   \n",
       "...     ...              ...           ...                       ...   \n",
       "66695  2023               44           196                BETELGEUSE   \n",
       "66696  2023               44           197                 Vancouver   \n",
       "66697  2023               44           198           Bye bye my blue   \n",
       "66698  2023               44           199  사랑이라 믿었던 것들은 (Feat. 이수현)   \n",
       "66699  2023               44           200         그때 그 순간 그대로 (그그그)   \n",
       "\n",
       "               Artist(s)                 Album  \n",
       "0                 가인, 조권           우리 사랑하게 됐어요  \n",
       "1                    이승기    Shadow (Repackage)  \n",
       "2                     거미    크리스마스에 눈이 올까요? OST  \n",
       "3            티아라 (T-ara)  Absolute First Album  \n",
       "4               지아 (Zia)               Atelier  \n",
       "...                  ...                   ...  \n",
       "66695              Yuuri            BETELGEUSE  \n",
       "66696  BIG Naughty (서동현)           Lovey Dovey  \n",
       "66697                백예린       Bye bye my blue  \n",
       "66698  BIG Naughty (서동현)              호프리스 로맨틱  \n",
       "66699       WSG워너비 (가야G)             WSG워너비 1집  \n",
       "\n",
       "[66700 rows x 6 columns]"
      ]
     },
     "execution_count": 6,
     "metadata": {},
     "output_type": "execute_result"
    }
   ],
   "source": [
    "import pandas as pd\n",
    "KPopRankings_df = pd.read_csv('kpop_ranking.csv', )\n",
    "\n",
    "KPopRankings_df\n",
    "\n"
   ]
  }
 ],
 "metadata": {
  "kernelspec": {
   "display_name": "Python 3",
   "language": "python",
   "name": "python3"
  },
  "language_info": {
   "codemirror_mode": {
    "name": "ipython",
    "version": 3
   },
   "file_extension": ".py",
   "mimetype": "text/x-python",
   "name": "python",
   "nbconvert_exporter": "python",
   "pygments_lexer": "ipython3",
   "version": "3.9.2"
  },
  "orig_nbformat": 4
 },
 "nbformat": 4,
 "nbformat_minor": 2
}
